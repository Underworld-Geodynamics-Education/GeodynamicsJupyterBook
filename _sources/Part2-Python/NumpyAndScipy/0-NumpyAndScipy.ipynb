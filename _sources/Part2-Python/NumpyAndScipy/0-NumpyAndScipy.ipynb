{
 "cells": [
  {
   "cell_type": "markdown",
   "metadata": {},
   "source": [
    "# Numpy and Scipy\n",
    "\n",
    "Some words\n",
    "\n",
    "\n",
    "```{toctree}\n",
    ":hidden:\n",
    ":titlesonly:\n",
    "\n",
    "\n",
    "1-IntroductionToNumpy.md\n",
    "2-Application-TheGameOfLife.md\n",
    "3-Discussion-TheGameOfLife.md\n",
    "4-IntroductionToScipy.md\n",
    "5-ScipyInterpolate.md\n",
    "6-ScipySpatialAndMeshing.md\n",
    "7-ScipyOptimize.md\n",
    "8-Numpy+ScipyMiscellany.md\n",
    "```"
   ]
  }
 ],
 "metadata": {
  "jupytext": {
   "text_representation": {
    "extension": ".md",
    "format_name": "myst",
    "format_version": 0.12,
    "jupytext_version": "1.6.0"
   }
  },
  "kernelspec": {
   "display_name": "Python 3",
   "language": "python",
   "name": "python3"
  },
  "source_map": [
   12
  ]
 },
 "nbformat": 4,
 "nbformat_minor": 4
}