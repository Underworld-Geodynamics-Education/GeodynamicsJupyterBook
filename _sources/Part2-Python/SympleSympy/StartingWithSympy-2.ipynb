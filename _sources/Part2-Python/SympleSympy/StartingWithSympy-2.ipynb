{
 "cells": [
  {
   "cell_type": "markdown",
   "metadata": {},
   "source": [
    "# Using `sympy` for ODEs\n",
    "\n",
    "We can use the capacity in `sympy` to differentiate symbolic expressions for simple verification of solutions of an ODE or PDE.\n",
    "For ODEs, there is an extensive set of documentation that deals with finding sets of solutions: \n",
    "https://docs.sympy.org/latest/modules/solvers/ode.html#ode-docs.\n",
    "\n",
    "Often, however, we are verifying a solution we know or suspect to have a certain form and we simply\n",
    "need `sympy` to make sure there are no mistakes. \n",
    "\n",
    "Let's begin with a simple harmonic oscillator:\n",
    "\n",
    "$$\n",
    "    \\frac{d^2 \\theta}{d t^2} = -k \\theta \n",
    "$$\n",
    "\n",
    "which we expect to have solutions like \n",
    "\n",
    "$$ \\theta = A \\cos(\\omega t + \\phi) $$\n",
    "\n",
    "Can we verify these solutions using symbolic manipulation ?"
   ]
  },
  {
   "cell_type": "code",
   "execution_count": 1,
   "metadata": {},
   "outputs": [],
   "source": [
    "import sympy\n",
    "import math\n",
    "import numpy as np"
   ]
  },
  {
   "cell_type": "markdown",
   "metadata": {},
   "source": [
    "## Symbolic approach"
   ]
  },
  {
   "cell_type": "code",
   "execution_count": 2,
   "metadata": {},
   "outputs": [],
   "source": [
    "from sympy.core.symbol import Symbol\n",
    "\n",
    "t = Symbol('t')\n",
    "A = Symbol('A')\n",
    "\n",
    "omega = Symbol('omega', positive=True)\n",
    "phi = Symbol('phi')"
   ]
  },
  {
   "cell_type": "code",
   "execution_count": 3,
   "metadata": {},
   "outputs": [],
   "source": [
    "theta = A * sympy.cos(omega * t + phi)"
   ]
  },
  {
   "cell_type": "markdown",
   "metadata": {},
   "source": [
    "Let's now check to see whether this form of theta is an eigenfunction of the ODE"
   ]
  },
  {
   "cell_type": "code",
   "execution_count": 4,
   "metadata": {},
   "outputs": [
    {
     "data": {
      "text/latex": [
       "$\\displaystyle - \\omega^{2}$"
      ],
      "text/plain": [
       "-omega**2"
      ]
     },
     "execution_count": 4,
     "metadata": {},
     "output_type": "execute_result"
    }
   ],
   "source": [
    "theta.diff(t,2) / theta"
   ]
  },
  {
   "cell_type": "markdown",
   "metadata": {},
   "source": [
    "So, yes, this satisfies the equation subject to additional information needed to determine\n",
    "$\\phi$. The value of $\\omega$ is $\\sqrt{k}$.\n",
    "\n",
    "# Use of the `sympy` equation module (`Eq`)\n",
    "\n",
    "If we tell sympy that we have an equation, there are tools we can use to solve it"
   ]
  },
  {
   "cell_type": "code",
   "execution_count": 5,
   "metadata": {},
   "outputs": [
    {
     "data": {
      "text/latex": [
       "$\\displaystyle \\omega^{2} \\Theta{\\left(t \\right)} + \\frac{d^{2}}{d t^{2}} \\Theta{\\left(t \\right)} = 0$"
      ],
      "text/plain": [
       "Eq(omega**2*Theta(t) + Derivative(Theta(t), (t, 2)), 0)"
      ]
     },
     "execution_count": 5,
     "metadata": {},
     "output_type": "execute_result"
    }
   ],
   "source": [
    "Theta = sympy.Function(\"Theta\")\n",
    "\n",
    "eq=sympy.Eq(Theta(t).diff(t,2) + omega**2 * Theta(t), 0)\n",
    "eq"
   ]
  },
  {
   "cell_type": "code",
   "execution_count": 6,
   "metadata": {},
   "outputs": [
    {
     "data": {
      "text/latex": [
       "$\\displaystyle C_{1} \\sin{\\left(\\omega t \\right)} + C_{2} \\cos{\\left(\\omega t \\right)}$"
      ],
      "text/plain": [
       "C1*sin(omega*t) + C2*cos(omega*t)"
      ]
     },
     "metadata": {},
     "output_type": "display_data"
    },
    {
     "data": {
      "text/plain": [
       "{C1, C2, omega, t}"
      ]
     },
     "metadata": {},
     "output_type": "display_data"
    },
    {
     "data": {
      "text/latex": [
       "$\\displaystyle C_{1}$"
      ],
      "text/plain": [
       "C1"
      ]
     },
     "metadata": {},
     "output_type": "display_data"
    },
    {
     "data": {
      "text/latex": [
       "$\\displaystyle t$"
      ],
      "text/plain": [
       "t"
      ]
     },
     "metadata": {},
     "output_type": "display_data"
    }
   ],
   "source": [
    "sol=sympy.dsolve(eq,Theta(t)).rhs\n",
    "display(sol)\n",
    "display(sol.free_symbols)\n",
    "c1,c2 = list(sol.free_symbols)[0], list(sol.free_symbols)[1]\n",
    "display(c1, c2)"
   ]
  },
  {
   "cell_type": "code",
   "execution_count": 7,
   "metadata": {},
   "outputs": [
    {
     "data": {
      "text/latex": [
       "$\\displaystyle A \\cos{\\left(\\omega t + \\phi \\right)}$"
      ],
      "text/plain": [
       "A*cos(omega*t + phi)"
      ]
     },
     "execution_count": 7,
     "metadata": {},
     "output_type": "execute_result"
    }
   ],
   "source": [
    "myform = A * sympy.cos(omega * t + phi)\n",
    "myform"
   ]
  },
  {
   "cell_type": "code",
   "execution_count": 8,
   "metadata": {},
   "outputs": [
    {
     "data": {
      "text/latex": [
       "$\\displaystyle A \\left(- \\sin{\\left(\\phi \\right)} \\sin{\\left(\\omega t \\right)} + \\cos{\\left(\\phi \\right)} \\cos{\\left(\\omega t \\right)}\\right)$"
      ],
      "text/plain": [
       "A*(-sin(phi)*sin(omega*t) + cos(phi)*cos(omega*t))"
      ]
     },
     "execution_count": 8,
     "metadata": {},
     "output_type": "execute_result"
    }
   ],
   "source": [
    "sympy.expand_trig(myform)"
   ]
  },
  {
   "cell_type": "code",
   "execution_count": 9,
   "metadata": {},
   "outputs": [
    {
     "data": {
      "text/latex": [
       "$\\displaystyle - A \\sin{\\left(\\phi \\right)} \\sin{\\left(A \\omega \\cos{\\left(\\phi \\right)} \\right)} + C_{2} \\cos{\\left(A \\omega \\cos{\\left(\\phi \\right)} \\right)}$"
      ],
      "text/plain": [
       "-A*sin(phi)*sin(A*omega*cos(phi)) + C2*cos(A*omega*cos(phi))"
      ]
     },
     "execution_count": 9,
     "metadata": {},
     "output_type": "execute_result"
    }
   ],
   "source": [
    "their_form = sol.subs([(c1, -A * sympy.sin(phi)), (c2, A * sympy.cos(phi))])\n",
    "their_form"
   ]
  },
  {
   "cell_type": "code",
   "execution_count": 10,
   "metadata": {},
   "outputs": [
    {
     "data": {
      "text/latex": [
       "$\\displaystyle A \\sin{\\left(\\phi \\right)} \\sin{\\left(A \\omega \\cos{\\left(\\phi \\right)} \\right)} + A \\cos{\\left(\\omega t + \\phi \\right)} - C_{2} \\cos{\\left(A \\omega \\cos{\\left(\\phi \\right)} \\right)}$"
      ],
      "text/plain": [
       "A*sin(phi)*sin(A*omega*cos(phi)) + A*cos(omega*t + phi) - C2*cos(A*omega*cos(phi))"
      ]
     },
     "execution_count": 10,
     "metadata": {},
     "output_type": "execute_result"
    }
   ],
   "source": [
    "(myform - their_form).simplify()"
   ]
  },
  {
   "cell_type": "code",
   "execution_count": 11,
   "metadata": {},
   "outputs": [
    {
     "data": {
      "text/plain": [
       "False"
      ]
     },
     "execution_count": 11,
     "metadata": {},
     "output_type": "execute_result"
    }
   ],
   "source": [
    "# Check to see if they are (exactly) equivalent\n",
    "\n",
    "myform.equals(their_form)"
   ]
  }
 ],
 "metadata": {
  "jupytext": {
   "text_representation": {
    "extension": ".md",
    "format_name": "myst",
    "format_version": 0.12,
    "jupytext_version": "1.6.0"
   }
  },
  "kernelspec": {
   "display_name": "Python 3",
   "language": "python",
   "name": "python3"
  },
  "language_info": {
   "codemirror_mode": {
    "name": "ipython",
    "version": 3
   },
   "file_extension": ".py",
   "mimetype": "text/x-python",
   "name": "python",
   "nbconvert_exporter": "python",
   "pygments_lexer": "ipython3",
   "version": "3.7.8"
  },
  "source_map": [
   12,
   35,
   39,
   43,
   53,
   55,
   59,
   61,
   70,
   77,
   85,
   90,
   94,
   99,
   103
  ]
 },
 "nbformat": 4,
 "nbformat_minor": 4
}