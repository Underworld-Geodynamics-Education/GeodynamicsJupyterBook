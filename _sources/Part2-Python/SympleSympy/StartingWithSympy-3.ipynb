{
 "cells": [
  {
   "cell_type": "markdown",
   "metadata": {},
   "source": [
    "# Using `sympy` for a PDE\n",
    "\n",
    "If we already know the form of the solution to a PDE, then there is no difference from\n",
    "the approach we just demonstrated with the simple harmonic oscillator. \n",
    "\n",
    "However, PDEs are more diverse and difficult to solve in general and it is \n",
    "very unlikely that you will be able to treat `sympy` as a black box for this.\n",
    "The documentation for the PDE solvers is here: https://docs.sympy.org/latest/modules/solvers/pde.html\n",
    "\n",
    "$$\n",
    "    \\frac{\\partial^2 u}{\\partial t^2} = c^2  \\frac{\\partial^2 u}{\\partial x^2}\n",
    "$$\n",
    "\n",
    "Let's just check to see that we can write this in the appropriate symbolic form that\n",
    "we can form the relevant derivatives"
   ]
  },
  {
   "cell_type": "code",
   "execution_count": 1,
   "metadata": {},
   "outputs": [],
   "source": [
    "import sympy\n",
    "import math\n",
    "import numpy as np"
   ]
  },
  {
   "cell_type": "markdown",
   "metadata": {},
   "source": [
    "## Symbolic approach"
   ]
  },
  {
   "cell_type": "code",
   "execution_count": 2,
   "metadata": {},
   "outputs": [
    {
     "data": {
      "text/latex": [
       "$\\displaystyle e^{- i k x - i \\omega t}$"
      ],
      "text/plain": [
       "exp(-I*k*x - I*omega*t)"
      ]
     },
     "execution_count": 2,
     "metadata": {},
     "output_type": "execute_result"
    }
   ],
   "source": [
    "from sympy.core.symbol import Symbol\n",
    "from sympy.core.function import Function\n",
    "\n",
    "t     = Symbol('t')\n",
    "x     = Symbol('x')\n",
    "c     = Symbol('c', positive=True)\n",
    "omega = Symbol('omega', positive=True)\n",
    "k     = Symbol('k', positive=True)\n",
    "U     = Function('U')\n",
    "\n",
    "# Potential solution\n",
    "X = sympy.exp(-sympy.I * omega * t -sympy.I * k * x)\n",
    "X"
   ]
  },
  {
   "cell_type": "code",
   "execution_count": 3,
   "metadata": {},
   "outputs": [
    {
     "data": {
      "text/latex": [
       "$\\displaystyle - c^{2} \\frac{\\partial^{2}}{\\partial x^{2}} U{\\left(t,x \\right)} + \\frac{\\partial^{2}}{\\partial t^{2}} U{\\left(t,x \\right)} = 0$"
      ],
      "text/plain": [
       "Eq(-c**2*Derivative(U(t, x), (x, 2)) + Derivative(U(t, x), (t, 2)), 0)"
      ]
     },
     "execution_count": 3,
     "metadata": {},
     "output_type": "execute_result"
    }
   ],
   "source": [
    "F = U(t,x).diff(t,2) -  c**2 * U(t,x).diff(x,2)\n",
    "eq=sympy.Eq(F, 0)\n",
    "eq"
   ]
  },
  {
   "cell_type": "code",
   "execution_count": 4,
   "metadata": {},
   "outputs": [
    {
     "data": {
      "text/latex": [
       "$\\displaystyle - c^{2} \\frac{\\partial^{2}}{\\partial x^{2}} U{\\left(t,x \\right)} + \\frac{\\partial^{2}}{\\partial t^{2}} U{\\left(t,x \\right)} = 0$"
      ],
      "text/plain": [
       "Eq(-c**2*Derivative(U(t, x), (x, 2)) + Derivative(U(t, x), (t, 2)), 0)"
      ]
     },
     "execution_count": 4,
     "metadata": {},
     "output_type": "execute_result"
    }
   ],
   "source": [
    "eq=sympy.Eq(F, 0)\n",
    "eq"
   ]
  },
  {
   "cell_type": "code",
   "execution_count": 5,
   "metadata": {},
   "outputs": [
    {
     "data": {
      "text/latex": [
       "$\\displaystyle c^{2} k^{2} e^{- i \\left(k x + \\omega t\\right)} - \\omega^{2} e^{- i \\left(k x + \\omega t\\right)} = 0$"
      ],
      "text/plain": [
       "Eq(c**2*k**2*exp(-I*(k*x + omega*t)) - omega**2*exp(-I*(k*x + omega*t)), 0)"
      ]
     },
     "execution_count": 5,
     "metadata": {},
     "output_type": "execute_result"
    }
   ],
   "source": [
    "eq2 = eq.replace(U(t,x), X).simplify()\n",
    "eq2"
   ]
  },
  {
   "cell_type": "code",
   "execution_count": 6,
   "metadata": {},
   "outputs": [
    {
     "data": {
      "text/plain": [
       "[omega/c]"
      ]
     },
     "execution_count": 6,
     "metadata": {},
     "output_type": "execute_result"
    }
   ],
   "source": [
    "sympy.solve(eq2, k)"
   ]
  },
  {
   "cell_type": "code",
   "execution_count": 7,
   "metadata": {},
   "outputs": [
    {
     "data": {
      "text/latex": [
       "$\\displaystyle \\text{True}$"
      ],
      "text/plain": [
       "True"
      ]
     },
     "execution_count": 7,
     "metadata": {},
     "output_type": "execute_result"
    }
   ],
   "source": [
    "eq2.subs(k, omega/c )"
   ]
  }
 ],
 "metadata": {
  "jupytext": {
   "text_representation": {
    "extension": ".md",
    "format_name": "myst",
    "format_version": 0.12,
    "jupytext_version": "1.6.0"
   }
  },
  "kernelspec": {
   "display_name": "Python 3",
   "language": "python",
   "name": "python3"
  },
  "language_info": {
   "codemirror_mode": {
    "name": "ipython",
    "version": 3
   },
   "file_extension": ".py",
   "mimetype": "text/x-python",
   "name": "python",
   "nbconvert_exporter": "python",
   "pygments_lexer": "ipython3",
   "version": "3.7.8"
  },
  "source_map": [
   12,
   30,
   34,
   38,
   54,
   60,
   65,
   70,
   74
  ]
 },
 "nbformat": 4,
 "nbformat_minor": 4
}