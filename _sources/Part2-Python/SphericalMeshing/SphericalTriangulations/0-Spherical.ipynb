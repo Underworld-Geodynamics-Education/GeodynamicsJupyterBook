{
 "cells": [
  {
   "cell_type": "markdown",
   "metadata": {},
   "source": [
    "# Spherical Meshes\n",
    "\n",
    "  - [Ex1-Cartesian-Triangulations](./Ex1-Cartesian-Triangulations.md)\n",
    "  - [Ex2-CartesianGrids.md](./Ex2-CartesianGrids.md)\n",
    "  - [Ex3-Interpolation.md](./Ex3-Interpolation.md)\n",
    "  - [Ex4-Gradients.md](Ex4-Gradients.md)\n",
    "  - [Ex5-Smoothing.md](Ex5-Smoothing.md)\n",
    "  - [Ex6-Scattered-Data.md](Ex6-Scattered-Data.md)\n",
    "  - [Ex7-Refinement-of-Triangulations.md](Ex7-Refinement-of-Triangulations.md)\n",
    "  - [Ex8-Spline-Tension.md](Ex8-Spline-Tension.md)\n",
    "  - [Ex9-Voronoi-Diagram.md](Ex9-Voronoi-Diagram.md)\n",
    "\n",
    "\n",
    "\n",
    "```{toctree}\n",
    ":hidden:\n",
    ":titlesonly:\n",
    "\n",
    "\n",
    "Ex1-Spherical-Triangulations.md\n",
    "Ex2-SphericalGrids.md\n",
    "Ex3-Interpolation.md\n",
    "Ex4-Gradients.md\n",
    "Ex5-Smoothing.md\n",
    "Ex6-Scattered-Data.md\n",
    "Ex7-Refinement-of-Triangulations.md\n",
    "Ex8-Spline-Tension.md\n",
    "Ex9-Voronoi-Diagram.md\n",
    "../Litho1pt0/Ex1-Litho1Layers.md\n",
    "../Litho1pt0/Ex2-Litho1Properties.md\n",
    "../Litho1pt0/Ex3-CrustalRegionalisation.md\n",
    "../Litho1pt0/WorkEx1-CratonAverageProperties.md\n",
    "../Litho1pt0/WorkEx2-OceanDepthAge.md\n",
    "../Litho1pt0/WEx2-Tutorial/Notebook-1.md\n",
    "```"
   ]
  }
 ],
 "metadata": {
  "jupytext": {
   "text_representation": {
    "extension": ".md",
    "format_name": "myst",
    "format_version": 0.12,
    "jupytext_version": "1.6.0"
   }
  },
  "kernelspec": {
   "display_name": "Python 3",
   "language": "python",
   "name": "python3"
  },
  "source_map": [
   12
  ]
 },
 "nbformat": 4,
 "nbformat_minor": 4
}