{
 "cells": [
  {
   "cell_type": "markdown",
   "metadata": {},
   "source": [
    "# Maps with the Cartopy Package\n",
    "\n",
    "Introductory text\n",
    "\n",
    "\n",
    "\n",
    "```{toctree}\n",
    ":hidden:\n",
    ":titlesonly:\n",
    "\n",
    "\n",
    "0-Preliminaries.md\n",
    "1-IntroductingCartopy.md\n",
    "2-ImagesAndGeoTIFFs.md\n",
    "3-WorkingWithRealData.md\n",
    "4-ContouringGlobalData.md\n",
    "5-WorkingWithPointData.md\n",
    "6-WorkingWithShuttleRadarTopography.md\n",
    "7-WorkingWithOn-DemandMappingServices.md\n",
    "8-GlobalPlateMotionsEtc.md\n",
    "9-HimalayaRegionMapsAndImages.md\n",
    "9a-HimalayaRegionMapsAndImages-Pt2.md\n",
    "```"
   ]
  }
 ],
 "metadata": {
  "jupytext": {
   "text_representation": {
    "extension": ".md",
    "format_name": "myst",
    "format_version": "0.9",
    "jupytext_version": "1.5.2"
   }
  },
  "kernelspec": {
   "display_name": "Python 2",
   "language": "python",
   "name": "python2"
  },
  "source_map": [
   12
  ]
 },
 "nbformat": 4,
 "nbformat_minor": 4
}