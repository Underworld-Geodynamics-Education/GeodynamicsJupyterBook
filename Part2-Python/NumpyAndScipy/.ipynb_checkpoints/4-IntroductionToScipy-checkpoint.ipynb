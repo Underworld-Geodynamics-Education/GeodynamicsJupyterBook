{
 "cells": [
  {
   "cell_type": "markdown",
   "metadata": {},
   "source": [
    "# scipy \n",
    "\n",
    "\n",
    "`scipy` is a collection of tools that are commonly encountered in scientific environments. The implementations are generally robust and reliable. The documentation varies in quality but is generally helpful. \n",
    "\n",
    "It is impossible to cover all the aspects of the entire package because it includes modules to cover an enormous range of functionality:\n",
    "\n",
    "  - `cluster`: clustering algorithms (data analysis)\n",
    "  - `constants`: physical / mathematical constants\n",
    "  - `fftpack`: fourier transforms\n",
    "  - `integrate`: numerical integration routines\n",
    "  - `interpolate`: various data interpolation routines\n",
    "  - `linalg`: linear algebra routines (matrices etc)\n",
    "  - `ndimage`: N dimensional image manipulation and resizing (also array manipulations)\n",
    "  - `odr`: Orthogonal distance regression\n",
    "  - `optimize`: Optimization / root finding\n",
    "  - `signal`: Signal processing\n",
    "  - `sparse`: Sparse matrix packages\n",
    "  - `spatial`: Spatial data / triangulation / Voronoi diagrams \n",
    "  - `special`: Special (mathematical) functions \n",
    "  - `stats`: Statistics routines\n",
    "  \n",
    "  \n",
    "Here we will just skim some of the available sub-modules and go through some of the examples provided. \n"
   ]
  },
  {
   "cell_type": "code",
   "execution_count": 1,
   "metadata": {},
   "outputs": [
    {
     "ename": "SyntaxError",
     "evalue": "Missing parentheses in call to 'print'. Did you mean print(constants.electron_mass)? (<ipython-input-1-332f575bd238>, line 8)",
     "output_type": "error",
     "traceback": [
      "\u001b[0;36m  File \u001b[0;32m\"<ipython-input-1-332f575bd238>\"\u001b[0;36m, line \u001b[0;32m8\u001b[0m\n\u001b[0;31m    print constants.electron_mass\u001b[0m\n\u001b[0m                  ^\u001b[0m\n\u001b[0;31mSyntaxError\u001b[0m\u001b[0;31m:\u001b[0m Missing parentheses in call to 'print'. Did you mean print(constants.electron_mass)?\n"
     ]
    }
   ],
   "source": [
    "## importing scipy does very little (mostly the numpy namespace)\n",
    "import numpy as np\n",
    "import scipy\n",
    "\n",
    "## to use the modules import each one separately\n",
    "from scipy import constants as constants\n",
    "\n",
    "print (constants.electron_mass)\n",
    "print ()\n",
    "print (constants.find(\"electron mass\"))\n",
    "print ()\n",
    "print (constants.value(\"electron mass\"),\" \", constants.unit(\"electron mass\"))\n"
   ]
  },
  {
   "cell_type": "code",
   "execution_count": null,
   "metadata": {},
   "outputs": [],
   "source": [
    "## Note, this is actually the numpy array as well\n",
    "\n",
    "help(scipy.ndarray)"
   ]
  },
  {
   "cell_type": "code",
   "execution_count": null,
   "metadata": {
    "collapsed": true
   },
   "outputs": [],
   "source": []
  }
 ],
 "metadata": {
  "kernelspec": {
   "display_name": "Python 3",
   "language": "python",
   "name": "python3"
  },
  "language_info": {
   "codemirror_mode": {
    "name": "ipython",
    "version": 3
   },
   "file_extension": ".py",
   "mimetype": "text/x-python",
   "name": "python",
   "nbconvert_exporter": "python",
   "pygments_lexer": "ipython3",
   "version": "3.7.2"
  }
 },
 "nbformat": 4,
 "nbformat_minor": 2
}
